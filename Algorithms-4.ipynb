{
 "cells": [
  {
   "cell_type": "code",
   "execution_count": 72,
   "metadata": {},
   "outputs": [
    {
     "name": "stdout",
     "output_type": "stream",
     "text": [
      "123\n",
      "132\n",
      "213\n",
      "231\n",
      "312\n",
      "321\n"
     ]
    }
   ],
   "source": [
    "N = int(input())\n",
    "\n",
    "permutation = ''\n",
    "not_used = set(range(1, N + 1))\n",
    "\n",
    "def generate_permutations(not_used, permutation):\n",
    "    for element in not_used:\n",
    "        permutation += str(element)\n",
    "        generate_permutations(not_used - {element}, permutation)\n",
    "        permutation = permutation[:-1]\n",
    "    if not not_used:\n",
    "        print(permutation)\n",
    "generate_permutations(not_used, '')"
   ]
  },
  {
   "cell_type": "code",
   "execution_count": 147,
   "metadata": {},
   "outputs": [
    {
     "name": "stdout",
     "output_type": "stream",
     "text": [
      "30687\n",
      "2 1 1 2 1 1 2 2 1 2 1 1 2 2 2 1 2 1 1 1 "
     ]
    }
   ],
   "source": [
    "from math import inf\n",
    "with open('input.txt', 'r') as f:\n",
    "    N = int(f.readline().strip())\n",
    "    adjacency_matrix = []\n",
    "    maxval = 0\n",
    "    rowmax = []\n",
    "    for i in range(N):\n",
    "        row = list(map(int, f.readline().strip().split()))\n",
    "        adjacency_matrix.append(row)\n",
    "        maxval = max(max(row), maxval)\n",
    "        rowmax.append(max(row))\n",
    "        \n",
    "max_weight = 0\n",
    "ans1 = []\n",
    "ans2 = []\n",
    "\n",
    "def generate_subsets(k, subset, current_weight):\n",
    "    if k == 0:\n",
    "        global max_weight\n",
    "        if current_weight > max_weight:\n",
    "            max_weight = current_weight\n",
    "            global ans1, ans2\n",
    "            ans1 = [i for i in range(N) if subset[i]]\n",
    "            ans2 = [i for i in range(N) if not subset[i]]\n",
    "    else:\n",
    "        mass1 = sum((adjacency_matrix[i][N - k] for i in range(len(subset)) if subset[i] == 1))\n",
    "        mass2 = sum((adjacency_matrix[i][N - k] for i in range(len(subset)) if subset[i] == 0))\n",
    "        current_rowmax = max(rowmax[:k])\n",
    "        if current_weight + mass1 + (k - 1) * (N - k + 1) * current_rowmax > max_weight:\n",
    "            current_weight += mass1\n",
    "            generate_subsets(k - 1, subset + [0], current_weight)\n",
    "            current_weight -= mass1\n",
    "        if current_weight + mass2 + (k - 1) * (N - k + 1) * current_rowmax > max_weight:\n",
    "            current_weight += mass2\n",
    "            generate_subsets(k - 1, subset + [1], current_weight)\n",
    "            current_weight -= mass2\n",
    "generate_subsets(N, [], 0)\n",
    "print(max_weight)\n",
    "for ever in range(N):\n",
    "    if ever in ans1:\n",
    "        print(1, end = ' ')\n",
    "    else:\n",
    "        print(2, end = ' ')"
   ]
  },
  {
   "cell_type": "code",
   "execution_count": 127,
   "metadata": {},
   "outputs": [
    {
     "data": {
      "text/plain": [
       "1048576"
      ]
     },
     "execution_count": 127,
     "metadata": {},
     "output_type": "execute_result"
    }
   ],
   "source": [
    "from math import inf\n",
    "with open('input.txt', 'r') as f:\n",
    "    N = int(f.readline().strip())\n",
    "    adjacency_matrix = []\n",
    "    maxval = 0\n",
    "    rowmax = []\n",
    "    for i in range(N):\n",
    "        row = list(map(int, f.readline().strip().split()))\n",
    "        adjacency_matrix.append(row)\n",
    "        maxval = max(max(row), maxval)\n",
    "        rowmax.append(max(row))\n",
    "        \n",
    "if N != 1:\n",
    "    min_weight = inf\n",
    "else:\n",
    "    min_weight = 0\n",
    "\n",
    "def count_weight(permutation):\n",
    "    weight = 0\n",
    "    permutation = permutation + [0]\n",
    "    for i in range(1, len(permutation)):\n",
    "        if adjacency_matrix[permutation[i - 1]][permutation[i]] == 0:\n",
    "            return inf\n",
    "        weight += adjacency_matrix[permutation[i - 1]][permutation[i]]\n",
    "    return weight\n",
    "        \n",
    "not_used = set(range(1, N))\n",
    "\n",
    "def generate_permutations(not_used, permutation, current_weight):\n",
    "    global min_weight\n",
    "    for element in not_used:\n",
    "        edge = adjacency_matrix[permutation[-1]][element]\n",
    "        if edge + current_weight < min_weight:\n",
    "            permutation += [element]\n",
    "            generate_permutations(not_used - {element}, permutation, edge + current_weight)\n",
    "            permutation.pop()\n",
    "            current_weight -= edge\n",
    "    if not not_used:\n",
    "        min_weight = min(min_weight, count_weight(permutation))\n",
    "generate_permutations(not_used, [0], 0)\n",
    "if min_weight == inf:\n",
    "    print(-1)\n",
    "else:\n",
    "    print(min_weight)"
   ]
  },
  {
   "cell_type": "code",
   "execution_count": 24,
   "metadata": {},
   "outputs": [
    {
     "name": "stdout",
     "output_type": "stream",
     "text": [
      "(())\n",
      "([])\n",
      "()()\n",
      "()[]\n",
      "[()]\n",
      "[[]]\n",
      "[]()\n",
      "[][]\n"
     ]
    }
   ],
   "source": [
    "N = int(input())\n",
    "def generate(n, seq, stack, open):\n",
    "    if n == 0:\n",
    "        print(seq)      \n",
    "    else:\n",
    "        if open < N / 2:\n",
    "            generate(n - 1, seq + '(', stack + ['('], open + 1)\n",
    "            generate(n - 1, seq + '[', stack + ['['], open + 1)\n",
    "        if len(stack):\n",
    "            prev = stack.pop()\n",
    "            if prev == '(':\n",
    "                generate(n - 1, seq + ')', stack, open)\n",
    "            else:\n",
    "                generate(n - 1, seq + ']', stack, open)\n",
    "if N % 2 == 1:\n",
    "    print('')\n",
    "else:\n",
    "    generate(N, '', [], 0)"
   ]
  },
  {
   "cell_type": "code",
   "execution_count": null,
   "metadata": {},
   "outputs": [],
   "source": [
    "n = int(input())\n",
    "\n",
    "A = "
   ]
  }
 ],
 "metadata": {
  "kernelspec": {
   "display_name": "base",
   "language": "python",
   "name": "python3"
  },
  "language_info": {
   "codemirror_mode": {
    "name": "ipython",
    "version": 3
   },
   "file_extension": ".py",
   "mimetype": "text/x-python",
   "name": "python",
   "nbconvert_exporter": "python",
   "pygments_lexer": "ipython3",
   "version": "3.9.12"
  }
 },
 "nbformat": 4,
 "nbformat_minor": 2
}
