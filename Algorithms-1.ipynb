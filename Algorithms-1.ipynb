{
 "cells": [
  {
   "cell_type": "code",
   "execution_count": 3,
   "metadata": {},
   "outputs": [
    {
     "name": "stdout",
     "output_type": "stream",
     "text": [
      "0\n",
      "1\n"
     ]
    }
   ],
   "source": [
    "N = int(input())\n",
    "\n",
    "A = list(map(int, input().strip().split()))\n",
    "\n",
    "x = int(input())\n",
    "\n",
    "answer1 = 0\n",
    "answer2 = 0\n",
    "for ever in A:\n",
    "    if ever < x:\n",
    "        answer1 += 1\n",
    "    else:\n",
    "        answer2 += 1\n",
    "print(answer1)\n",
    "print(answer2)"
   ]
  },
  {
   "cell_type": "code",
   "execution_count": 129,
   "metadata": {},
   "outputs": [
    {
     "name": "stdout",
     "output_type": "stream",
     "text": [
      "1 2 3 "
     ]
    }
   ],
   "source": [
    "import random\n",
    "def partition(l, r):\n",
    "    i, j = l, l\n",
    "    random_swap = random.choice(range(l, r + 1))\n",
    "    A[random_swap], A[r] = A[r], A[random_swap]\n",
    "    \n",
    "    while j < r:\n",
    "        if A[j] <= A[r]:\n",
    "            A[i], A[j] = A[j], A[i]\n",
    "            i += 1\n",
    "        j += 1\n",
    "    A[i], A[r] = A[r], A[i]\n",
    "    return i\n",
    "def quicksort(A, l, r):\n",
    "    if l < r:\n",
    "        new_r = partition(l, r)\n",
    "        quicksort(A, l, new_r - 1)\n",
    "        quicksort(A, new_r + 1, r)\n",
    "\n",
    "n = int(input())\n",
    "if n == 0:\n",
    "    print(' ')\n",
    "else:\n",
    "    A = list(map(int, input().split()))\n",
    "    quicksort(A, 0, len(A) - 1)\n",
    "    for ever in A:\n",
    "        print(ever, end = ' ')"
   ]
  },
  {
   "cell_type": "code",
   "execution_count": 130,
   "metadata": {},
   "outputs": [
    {
     "name": "stdout",
     "output_type": "stream",
     "text": [
      "1 2 3 "
     ]
    }
   ],
   "source": [
    "n = int(input())\n",
    "if n == 0:\n",
    "    print(' ')\n",
    "else:\n",
    "    A = list(map(int, input().split()))\n",
    "    for ever in sorted(A):\n",
    "        print(ever, end = ' ')"
   ]
  },
  {
   "cell_type": "code",
   "execution_count": 114,
   "metadata": {},
   "outputs": [
    {
     "data": {
      "text/plain": [
       "[2, 3, 4, -1, 10, 11, 100, 11, 100]"
      ]
     },
     "execution_count": 114,
     "metadata": {},
     "output_type": "execute_result"
    }
   ],
   "source": [
    "A"
   ]
  },
  {
   "cell_type": "code",
   "execution_count": 62,
   "metadata": {},
   "outputs": [
    {
     "data": {
      "text/plain": [
       "[1]"
      ]
     },
     "execution_count": 62,
     "metadata": {},
     "output_type": "execute_result"
    }
   ],
   "source": [
    "def quicksort(A, l, r):\n",
    "    if l < r:\n",
    "        support = A[random.choice(range(l, r + 1))]\n",
    "        new_r = partition(l, r, support)\n",
    "        quicksort(A, l, new_r - 1)\n",
    "        quicksort(A, new_r + 1, r)\n",
    "\n",
    "quicksort(A, 0, len(A) - 1)"
   ]
  },
  {
   "cell_type": "code",
   "execution_count": null,
   "metadata": {},
   "outputs": [],
   "source": [
    "A = [12, 5, 664, 63, 5, 73, 93, 127, 432, 64, 34]\n",
    "length = len(str(max(A)))\n",
    "rang = 10\n",
    "for i in range(length):\n",
    "    B = [[] for k in range(rang)] #список длины range, состоящий из пустых списков\n",
    "    for x in A:\n",
    "        figure = x // 10**i % 10\n",
    "        B[figure].append(x)\n",
    "    A = []\n",
    "    for k in range(rang):\n",
    "        A = A + B[k]\n",
    "print(A)"
   ]
  },
  {
   "cell_type": "code",
   "execution_count": 14,
   "metadata": {},
   "outputs": [
    {
     "name": "stdout",
     "output_type": "stream",
     "text": [
      "Initial array: \n",
      "12, 32, 45, 67, 98, 29, 61, 35, 09\n",
      "**********\n",
      "Phase 1\n",
      "[[], ['61'], ['12', '32'], [], [], ['45', '35'], [], ['67'], ['98'], ['29', '09']]\n",
      "Bucket 0: empty\n",
      "Bucket 1: 61\n",
      "Bucket 2: 12, 32\n",
      "Bucket 3: empty\n",
      "Bucket 4: empty\n",
      "Bucket 5: 45, 35\n",
      "Bucket 6: empty\n",
      "Bucket 7: 67\n",
      "Bucket 8: 98\n",
      "Bucket 9: 29, 09\n",
      "**********\n",
      "Phase 2\n",
      "[['09'], ['12'], ['29'], ['32', '35'], ['45'], [], ['61', '67'], [], [], ['98']]\n",
      "Bucket 0: 09\n",
      "Bucket 1: 12\n",
      "Bucket 2: 29\n",
      "Bucket 3: 32, 35\n",
      "Bucket 4: 45\n",
      "Bucket 5: empty\n",
      "Bucket 6: 61, 67\n",
      "Bucket 7: empty\n",
      "Bucket 8: empty\n",
      "Bucket 9: 98\n",
      "**********\n",
      "Sorted array:\n",
      "09, 12, 29, 32, 35, 45, 61, 67, 98\n"
     ]
    }
   ],
   "source": [
    "n = int(input())\n",
    "\n",
    "A = []\n",
    "for i in range(n):\n",
    "    A.append(input().strip())\n",
    "    \n",
    "def printbucket(A, rang):\n",
    "    for i in range(rang):\n",
    "        print('Bucket ' + str(i) + ':', end = ' ')\n",
    "        if len(A[i]) != 0:\n",
    "            print(', '.join(A[i]))\n",
    "        else:\n",
    "            print('empty')\n",
    "    print('**********')\n",
    "\n",
    "length = len(A[0])\n",
    "rang = 10\n",
    "\n",
    "print('Initial array: ')\n",
    "print(', '.join(A))\n",
    "print('**********')\n",
    "\n",
    "for i in range(length):\n",
    "    print('Phase ' + str(i + 1))\n",
    "    B = [[] for k in range(rang)] #список длины range, состоящий из пустых списков\n",
    "    for x in A:\n",
    "        figure = int(x[-1 - i])\n",
    "        B[figure].append(x)\n",
    "    A = []\n",
    "    for k in range(rang):\n",
    "        A = A + B[k]\n",
    "    printbucket(B, rang)\n",
    "\n",
    "print('Sorted array:')\n",
    "print(', '.join(A))"
   ]
  },
  {
   "cell_type": "code",
   "execution_count": 141,
   "metadata": {},
   "outputs": [
    {
     "name": "stdout",
     "output_type": "stream",
     "text": [
      "1 "
     ]
    }
   ],
   "source": [
    "\n",
    "def mergesort(A):\n",
    "    if len(A) == 1:\n",
    "        return A\n",
    "    elif len(A) == 2:\n",
    "        return [min(A), max(A)]\n",
    "    else:\n",
    "        return merge(mergesort(A[:(len(A)//2)]), mergesort(A[(len(A)//2):]))\n",
    "    \n",
    "def merge(A, B):\n",
    "    n = len(A)\n",
    "    m = len(B)\n",
    "    i = 0\n",
    "    j = 0\n",
    "    merged = []\n",
    "    while i < n and j < m:\n",
    "        if A[i] <= B[j]:\n",
    "            merged.append(A[i])\n",
    "            i += 1\n",
    "        else:\n",
    "            merged.append(B[j])\n",
    "            j += 1\n",
    "    while i < n:\n",
    "        merged.append(A[i])\n",
    "        i += 1\n",
    "    while j < m:\n",
    "        merged.append(B[j])\n",
    "        j += 1\n",
    "    return merged\n",
    "n = int(input())\n",
    "if n == 0:\n",
    "    print(' ')\n",
    "else:\n",
    "    A = list(map(int, input().split()))\n",
    "    for ever in mergesort(A):\n",
    "        print(ever, end = ' ')"
   ]
  },
  {
   "cell_type": "code",
   "execution_count": 134,
   "metadata": {},
   "outputs": [
    {
     "data": {
      "text/plain": [
       "3"
      ]
     },
     "execution_count": 134,
     "metadata": {},
     "output_type": "execute_result"
    }
   ],
   "source": [
    "j"
   ]
  }
 ],
 "metadata": {
  "kernelspec": {
   "display_name": "base",
   "language": "python",
   "name": "python3"
  },
  "language_info": {
   "codemirror_mode": {
    "name": "ipython",
    "version": 3
   },
   "file_extension": ".py",
   "mimetype": "text/x-python",
   "name": "python",
   "nbconvert_exporter": "python",
   "pygments_lexer": "ipython3",
   "version": "3.9.12"
  }
 },
 "nbformat": 4,
 "nbformat_minor": 2
}
